{
 "cells": [
  {
   "cell_type": "code",
   "execution_count": null,
   "metadata": {},
   "outputs": [],
   "source": [
    "N, M = map(int,input().split())\n",
    "nums = []\n",
    "for i in range(N):\n",
    "    x = list(map(int, input().split()))\n",
    "    nums.append(x)\n",
    "K = 2 * (N + M) + (N + M) % 2\n",
    "print(K)\n",
    "for j in range(0,M,2):\n",
    "for _ in range(2):\n",
    "    print(f'0 {j}')\n",
    "    print(f'0 {j+1}')\n",
    "start = 0\n",
    "if M // 2 == 0:\n",
    "    start += 1\n",
    "for i in range(start,N,2):\n",
    "    for _ in range(2):\n",
    "        print(f'{i} {M-1}')\n",
    "        print(f'{i+1} {M-1}')\n",
    "if K % 2 == 1:\n",
    "    for x in [(N-1, M-1), (N-1, M-2), (N-2, M-2), (N-1, M-2),(N-2, M-2),(N-1, M-1)]\n",
    "        print(x)"
   ]
  },
  {
   "cell_type": "code",
   "execution_count": null,
   "metadata": {},
   "outputs": [],
   "source": []
  }
 ],
 "metadata": {
  "language_info": {
   "name": "python"
  },
  "orig_nbformat": 4
 },
 "nbformat": 4,
 "nbformat_minor": 2
}
